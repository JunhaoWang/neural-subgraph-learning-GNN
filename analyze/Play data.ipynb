{
 "cells": [
  {
   "cell_type": "code",
   "execution_count": 2,
   "metadata": {},
   "outputs": [],
   "source": [
    "from torch_geometric.datasets import TUDataset, PPI, QM9"
   ]
  },
  {
   "cell_type": "code",
   "execution_count": 3,
   "metadata": {},
   "outputs": [
    {
     "name": "stdout",
     "output_type": "stream",
     "text": [
      "Downloading https://www.chrsmrrs.com/graphkerneldatasets/IMDB-BINARY.zip\n",
      "Extracting /tmp/IMDB-BINARY/IMDB-BINARY/IMDB-BINARY.zip\n",
      "Processing...\n",
      "Done!\n"
     ]
    }
   ],
   "source": [
    "dataset = TUDataset(root=\"/tmp/IMDB-BINARY\", name=\"IMDB-BINARY\")"
   ]
  },
  {
   "cell_type": "code",
   "execution_count": 8,
   "metadata": {},
   "outputs": [
    {
     "data": {
      "text/plain": [
       "Data(edge_index=[2, 193062], y=[1000])"
      ]
     },
     "execution_count": 8,
     "metadata": {},
     "output_type": "execute_result"
    }
   ],
   "source": [
    "dataset"
   ]
  },
  {
   "cell_type": "code",
   "execution_count": 9,
   "metadata": {},
   "outputs": [
    {
     "name": "stdout",
     "output_type": "stream",
     "text": [
      "--2020-09-24 13:43:53--  https://www.chrsmrrs.com/graphkerneldatasets/IMDB-BINARY.zip\n",
      "Resolving www.chrsmrrs.com (www.chrsmrrs.com)... 217.160.0.75\n",
      "Connecting to www.chrsmrrs.com (www.chrsmrrs.com)|217.160.0.75|:443... connected.\n",
      "HTTP request sent, awaiting response... 200 OK\n",
      "Length: 579242 (566K) [application/zip]\n",
      "Saving to: ‘IMDB-BINARY.zip’\n",
      "\n",
      "IMDB-BINARY.zip     100%[===================>] 565.67K  1.03MB/s    in 0.5s    \n",
      "\n",
      "2020-09-24 13:43:54 (1.03 MB/s) - ‘IMDB-BINARY.zip’ saved [579242/579242]\n",
      "\n"
     ]
    }
   ],
   "source": [
    "!wget https://www.chrsmrrs.com/graphkerneldatasets/IMDB-BINARY.zip"
   ]
  },
  {
   "cell_type": "code",
   "execution_count": 10,
   "metadata": {},
   "outputs": [
    {
     "name": "stdout",
     "output_type": "stream",
     "text": [
      "Archive:  IMDB-BINARY.zip\r\n",
      "   creating: IMDB-BINARY/\r\n",
      "  inflating: IMDB-BINARY/IMDB-BINARY_graph_labels.txt  \r\n",
      "  inflating: IMDB-BINARY/IMDB-BINARY_graph_indicator.txt  \r\n",
      "  inflating: IMDB-BINARY/IMDB-BINARY_A.txt  \r\n"
     ]
    }
   ],
   "source": [
    "!unzip IMDB-BINARY.zip"
   ]
  },
  {
   "cell_type": "code",
   "execution_count": null,
   "metadata": {},
   "outputs": [],
   "source": []
  }
 ],
 "metadata": {
  "kernelspec": {
   "display_name": "Python 3",
   "language": "python",
   "name": "python3"
  },
  "language_info": {
   "codemirror_mode": {
    "name": "ipython",
    "version": 3
   },
   "file_extension": ".py",
   "mimetype": "text/x-python",
   "name": "python",
   "nbconvert_exporter": "python",
   "pygments_lexer": "ipython3",
   "version": "3.8.3"
  }
 },
 "nbformat": 4,
 "nbformat_minor": 4
}
